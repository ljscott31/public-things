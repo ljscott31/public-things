{
 "cells": [
  {
   "cell_type": "markdown",
   "metadata": {},
   "source": [
    "# 2010 School Improvements Funds Exploration\n",
    "\n",
    "Our data in this example is pulled from https://catalog.data.gov/dataset/school-improvement-2010-grants, and represents the recipients of several grants given for school improvements in 2010 and 2011. \n",
    "\n",
    "## I want to look at a few things.\n",
    "    1) Distribution of funds - which states received the most aid, and are there relationships between this and population, # of schools, etc?\n",
    "    2) Patterns in the grant sizes, if there are any. \n"
   ]
  },
  {
   "cell_type": "code",
   "execution_count": 13,
   "metadata": {},
   "outputs": [],
   "source": [
    "# Data Imports\n",
    "import numpy as np\n",
    "import pandas as pd\n",
    "from pandas import Series,DataFrame\n",
    "\n",
    "# Math\n",
    "import math\n",
    "\n",
    "# Plot imports\n",
    "import matplotlib.pyplot as plt\n",
    "import seaborn as sns\n",
    "sns.set_style('whitegrid')\n",
    "%matplotlib inline"
   ]
  },
  {
   "cell_type": "markdown",
   "metadata": {},
   "source": [
    "Let's bring in the data and take a look at it first to see what we're working with here. "
   ]
  },
  {
   "cell_type": "code",
   "execution_count": 19,
   "metadata": {},
   "outputs": [
    {
     "data": {
      "text/html": [
       "<div>\n",
       "<style scoped>\n",
       "    .dataframe tbody tr th:only-of-type {\n",
       "        vertical-align: middle;\n",
       "    }\n",
       "\n",
       "    .dataframe tbody tr th {\n",
       "        vertical-align: top;\n",
       "    }\n",
       "\n",
       "    .dataframe thead th {\n",
       "        text-align: right;\n",
       "    }\n",
       "</style>\n",
       "<table border=\"1\" class=\"dataframe\">\n",
       "  <thead>\n",
       "    <tr style=\"text-align: right;\">\n",
       "      <th></th>\n",
       "      <th>School Name</th>\n",
       "      <th>City</th>\n",
       "      <th>State</th>\n",
       "      <th>District Name</th>\n",
       "      <th>2010/11/Award Amount</th>\n",
       "      <th>Model Selected</th>\n",
       "      <th>Location</th>\n",
       "    </tr>\n",
       "  </thead>\n",
       "  <tbody>\n",
       "    <tr>\n",
       "      <th>0</th>\n",
       "      <td>HOGARTH KINGEEKUK MEMORIAL SCHOOL</td>\n",
       "      <td>SAVOONGA</td>\n",
       "      <td>AK</td>\n",
       "      <td>BERING STRAIT SCHOOL DISTRICT</td>\n",
       "      <td>$471014.00</td>\n",
       "      <td>Transformation</td>\n",
       "      <td>200 MAIN ST\\nSAVOONGA, AK 99769\\n(63.6687, -17...</td>\n",
       "    </tr>\n",
       "    <tr>\n",
       "      <th>1</th>\n",
       "      <td>AKIACHAK SCHOOL</td>\n",
       "      <td>AKIACHAK</td>\n",
       "      <td>AK</td>\n",
       "      <td>YUPIIT SCHOOL DISTRICT</td>\n",
       "      <td>$520579.00</td>\n",
       "      <td>Transformation</td>\n",
       "      <td>AKIACHAK 51100\\nAKIACHAK, AK 99551\\n(60.8911, ...</td>\n",
       "    </tr>\n",
       "    <tr>\n",
       "      <th>2</th>\n",
       "      <td>GAMBELL SCHOOL</td>\n",
       "      <td>GAMBELL</td>\n",
       "      <td>AK</td>\n",
       "      <td>BERING STRAIT SCHOOL DISTRICT</td>\n",
       "      <td>$449592.00</td>\n",
       "      <td>Transformation</td>\n",
       "      <td>169 MAIN ST\\nGAMBELL, AK 99742\\n(63.7413, -171...</td>\n",
       "    </tr>\n",
       "    <tr>\n",
       "      <th>3</th>\n",
       "      <td>BURCHELL HIGH SCHOOL</td>\n",
       "      <td>WASILLA</td>\n",
       "      <td>AK</td>\n",
       "      <td>MATANUSKA-SUSITNA BOROUGH SCHOOL DISTRICT</td>\n",
       "      <td>$641184.00</td>\n",
       "      <td>Transformation</td>\n",
       "      <td>1775 WEST PARKS HWY\\nWASILLA, AK 99654\\n(61.57...</td>\n",
       "    </tr>\n",
       "    <tr>\n",
       "      <th>4</th>\n",
       "      <td>AKIAK SCHOOL</td>\n",
       "      <td>AKIAK</td>\n",
       "      <td>AK</td>\n",
       "      <td>YUPIIT SCHOOL DISTRICT</td>\n",
       "      <td>$399686.00</td>\n",
       "      <td>Transformation</td>\n",
       "      <td>AKIAK 5227\\nAKIAK, AK 99552\\n(60.8879, -161.2)</td>\n",
       "    </tr>\n",
       "  </tbody>\n",
       "</table>\n",
       "</div>"
      ],
      "text/plain": [
       "                         School Name      City State  \\\n",
       "0  HOGARTH KINGEEKUK MEMORIAL SCHOOL  SAVOONGA    AK   \n",
       "1                    AKIACHAK SCHOOL  AKIACHAK    AK   \n",
       "2                     GAMBELL SCHOOL   GAMBELL    AK   \n",
       "3               BURCHELL HIGH SCHOOL   WASILLA    AK   \n",
       "4                       AKIAK SCHOOL     AKIAK    AK   \n",
       "\n",
       "                               District Name 2010/11/Award Amount  \\\n",
       "0              BERING STRAIT SCHOOL DISTRICT           $471014.00   \n",
       "1                     YUPIIT SCHOOL DISTRICT           $520579.00   \n",
       "2              BERING STRAIT SCHOOL DISTRICT           $449592.00   \n",
       "3  MATANUSKA-SUSITNA BOROUGH SCHOOL DISTRICT           $641184.00   \n",
       "4                     YUPIIT SCHOOL DISTRICT           $399686.00   \n",
       "\n",
       "   Model Selected                                           Location  \n",
       "0  Transformation  200 MAIN ST\\nSAVOONGA, AK 99769\\n(63.6687, -17...  \n",
       "1  Transformation  AKIACHAK 51100\\nAKIACHAK, AK 99551\\n(60.8911, ...  \n",
       "2  Transformation  169 MAIN ST\\nGAMBELL, AK 99742\\n(63.7413, -171...  \n",
       "3  Transformation  1775 WEST PARKS HWY\\nWASILLA, AK 99654\\n(61.57...  \n",
       "4  Transformation     AKIAK 5227\\nAKIAK, AK 99552\\n(60.8879, -161.2)  "
      ]
     },
     "execution_count": 19,
     "metadata": {},
     "output_type": "execute_result"
    }
   ],
   "source": [
    "df = pd.read_csv(\"2010grants.csv\")\n",
    "df.head()"
   ]
  },
  {
   "cell_type": "markdown",
   "metadata": {},
   "source": [
    "What I want to look at is a few things: \n",
    "    1) The distribution of # of individual improvements by State. \n",
    "    2) The distribution of total amount USD by State. \n",
    "\n",
    "We can notice that the 2010/11/Award Amount column has a $. This indicates it is probably a string. We can check this by using type, as well as pandas' value_counts()."
   ]
  },
  {
   "cell_type": "code",
   "execution_count": 16,
   "metadata": {},
   "outputs": [
    {
     "data": {
      "text/plain": [
       "<class 'str'>      757\n",
       "<class 'float'>     74\n",
       "Name: 2010/11/Award Amount, dtype: int64"
      ]
     },
     "execution_count": 16,
     "metadata": {},
     "output_type": "execute_result"
    }
   ],
   "source": [
    "df['2010/11/Award Amount'].apply(type).value_counts()"
   ]
  },
  {
   "cell_type": "markdown",
   "metadata": {},
   "source": [
    "We have both floating point values and string values in the \"Award Amount Column\". Let's fix that. \n",
    "\n",
    "We use .replace() here with the regex=True argument so that the replacement will only be done on strings, not floats."
   ]
  },
  {
   "cell_type": "code",
   "execution_count": 20,
   "metadata": {},
   "outputs": [],
   "source": [
    "df['2010/11/Award Amount'] = df['2010/11/Award Amount'].replace({'\\$': '', ',': ''}, regex=True).astype(float)"
   ]
  },
  {
   "cell_type": "code",
   "execution_count": 21,
   "metadata": {},
   "outputs": [
    {
     "data": {
      "text/plain": [
       "<class 'float'>    831\n",
       "Name: 2010/11/Award Amount, dtype: int64"
      ]
     },
     "execution_count": 21,
     "metadata": {},
     "output_type": "execute_result"
    }
   ],
   "source": [
    "# And check the values again.\n",
    "\n",
    "df['2010/11/Award Amount'].apply(type).value_counts()"
   ]
  },
  {
   "cell_type": "markdown",
   "metadata": {},
   "source": [
    "Pare down the data, and get it to include (relative to each state) the following: \n",
    "    1) The Total Grant Amount\n",
    "    2) The Total # of Grants\n",
    "    3) The Average Grant Amount"
   ]
  },
  {
   "cell_type": "code",
   "execution_count": 22,
   "metadata": {},
   "outputs": [],
   "source": [
    "df_totals = df.groupby('State').sum()\n",
    "df_totals['# of Grants'] = df['State'].value_counts()\n",
    "df_totals['Average Individual Grant'] = df.groupby('State').mean()\n",
    "df_totals.reset_index(inplace = True)"
   ]
  },
  {
   "cell_type": "code",
   "execution_count": 8,
   "metadata": {},
   "outputs": [
    {
     "data": {
      "text/html": [
       "<div>\n",
       "<style scoped>\n",
       "    .dataframe tbody tr th:only-of-type {\n",
       "        vertical-align: middle;\n",
       "    }\n",
       "\n",
       "    .dataframe tbody tr th {\n",
       "        vertical-align: top;\n",
       "    }\n",
       "\n",
       "    .dataframe thead th {\n",
       "        text-align: right;\n",
       "    }\n",
       "</style>\n",
       "<table border=\"1\" class=\"dataframe\">\n",
       "  <thead>\n",
       "    <tr style=\"text-align: right;\">\n",
       "      <th></th>\n",
       "      <th>State</th>\n",
       "      <th>2010/11/Award Amount</th>\n",
       "      <th># of Grants</th>\n",
       "      <th>Average Individual Grant</th>\n",
       "    </tr>\n",
       "  </thead>\n",
       "  <tbody>\n",
       "    <tr>\n",
       "      <th>0</th>\n",
       "      <td>AK</td>\n",
       "      <td>3607416.0</td>\n",
       "      <td>7</td>\n",
       "      <td>515345.142857</td>\n",
       "    </tr>\n",
       "    <tr>\n",
       "      <th>1</th>\n",
       "      <td>AL</td>\n",
       "      <td>2300782.0</td>\n",
       "      <td>11</td>\n",
       "      <td>209162.000000</td>\n",
       "    </tr>\n",
       "    <tr>\n",
       "      <th>2</th>\n",
       "      <td>AR</td>\n",
       "      <td>3936109.0</td>\n",
       "      <td>7</td>\n",
       "      <td>562301.285714</td>\n",
       "    </tr>\n",
       "    <tr>\n",
       "      <th>3</th>\n",
       "      <td>AZ</td>\n",
       "      <td>13181345.0</td>\n",
       "      <td>19</td>\n",
       "      <td>693755.000000</td>\n",
       "    </tr>\n",
       "    <tr>\n",
       "      <th>4</th>\n",
       "      <td>CA</td>\n",
       "      <td>20286824.0</td>\n",
       "      <td>92</td>\n",
       "      <td>220508.956522</td>\n",
       "    </tr>\n",
       "  </tbody>\n",
       "</table>\n",
       "</div>"
      ],
      "text/plain": [
       "  State  2010/11/Award Amount  # of Grants  Average Individual Grant\n",
       "0    AK             3607416.0            7             515345.142857\n",
       "1    AL             2300782.0           11             209162.000000\n",
       "2    AR             3936109.0            7             562301.285714\n",
       "3    AZ            13181345.0           19             693755.000000\n",
       "4    CA            20286824.0           92             220508.956522"
      ]
     },
     "execution_count": 8,
     "metadata": {},
     "output_type": "execute_result"
    }
   ],
   "source": [
    "df_totals.head()"
   ]
  },
  {
   "cell_type": "markdown",
   "metadata": {},
   "source": [
    "Take a look at the top 10 recipient states for total amounts. "
   ]
  },
  {
   "cell_type": "code",
   "execution_count": 9,
   "metadata": {},
   "outputs": [
    {
     "data": {
      "text/plain": [
       "<matplotlib.axes._subplots.AxesSubplot at 0x214e8aba2e8>"
      ]
     },
     "execution_count": 9,
     "metadata": {},
     "output_type": "execute_result"
    },
    {
     "data": {
      "image/png": "[encoded data removed]",
      "text/plain": [
       "<Figure size 432x288 with 1 Axes>"
      ]
     },
     "metadata": {
      "needs_background": "light"
     },
     "output_type": "display_data"
    }
   ],
   "source": [
    "sns.barplot(x='State', y='2010/11/Award Amount', data = df_totals.nlargest(10, '2010/11/Award Amount'))"
   ]
  },
  {
   "cell_type": "markdown",
   "metadata": {},
   "source": [
    "And then the top 10 states for # of grants."
   ]
  },
  {
   "cell_type": "code",
   "execution_count": 10,
   "metadata": {},
   "outputs": [
    {
     "data": {
      "text/plain": [
       "<matplotlib.axes._subplots.AxesSubplot at 0x214e8e3c710>"
      ]
     },
     "execution_count": 10,
     "metadata": {},
     "output_type": "execute_result"
    },
    {
     "data": {
      "image/png": "[encoded data removed]",
      "text/plain": [
       "<Figure size 432x288 with 1 Axes>"
      ]
     },
     "metadata": {
      "needs_background": "light"
     },
     "output_type": "display_data"
    }
   ],
   "source": [
    "sns.barplot(x='State', y='# of Grants', data = df_totals.nlargest(10, '# of Grants'))"
   ]
  },
  {
   "cell_type": "markdown",
   "metadata": {},
   "source": [
    "And then the top 10 for average grant size. "
   ]
  },
  {
   "cell_type": "code",
   "execution_count": 11,
   "metadata": {},
   "outputs": [
    {
     "data": {
      "text/plain": [
       "<matplotlib.axes._subplots.AxesSubplot at 0x214e8eebcf8>"
      ]
     },
     "execution_count": 11,
     "metadata": {},
     "output_type": "execute_result"
    },
    {
     "data": {
      "image/png": "[encoded data removed]",
      "text/plain": [
       "<Figure size 432x288 with 1 Axes>"
      ]
     },
     "metadata": {
      "needs_background": "light"
     },
     "output_type": "display_data"
    }
   ],
   "source": [
    "sns.barplot(x='State', y='Average Individual Grant', data = df_totals.nlargest(10, 'Average Individual Grant'))"
   ]
  },
  {
   "cell_type": "markdown",
   "metadata": {},
   "source": [
    "I want to see if there's a correlation between average grant size and the total amount of grant money received. Let's graph those vs. one another and see how it goes. "
   ]
  },
  {
   "cell_type": "code",
   "execution_count": 42,
   "metadata": {},
   "outputs": [
    {
     "data": {
      "text/plain": [
       "<seaborn.axisgrid.JointGrid at 0x214ec362f98>"
      ]
     },
     "execution_count": 42,
     "metadata": {},
     "output_type": "execute_result"
    },
    {
     "data": {
      "image/png": "[encoded data removed]",
      "text/plain": [
       "<Figure size 432x432 with 3 Axes>"
      ]
     },
     "metadata": {
      "needs_background": "light"
     },
     "output_type": "display_data"
    }
   ],
   "source": [
    "sns.jointplot(x='2010/11/Award Amount', y='Average Individual Grant', kind='scatter', data = df_totals)"
   ]
  },
  {
   "cell_type": "markdown",
   "metadata": {},
   "source": [
    "That's cool, but doesn't have a line, and looks like there are some offliers that might skew the line. Maybe a density plot?"
   ]
  },
  {
   "cell_type": "code",
   "execution_count": 43,
   "metadata": {},
   "outputs": [
    {
     "data": {
      "text/plain": [
       "<seaborn.axisgrid.JointGrid at 0x214ec420898>"
      ]
     },
     "execution_count": 43,
     "metadata": {},
     "output_type": "execute_result"
    },
    {
     "data": {
      "image/png": "[encoded data removed]",
      "text/plain": [
       "<Figure size 432x432 with 3 Axes>"
      ]
     },
     "metadata": {
      "needs_background": "light"
     },
     "output_type": "display_data"
    }
   ],
   "source": [
    "sns.jointplot(x='2010/11/Award Amount', y='Average Individual Grant', kind='kde', data = df_totals)"
   ]
  },
  {
   "cell_type": "code",
   "execution_count": null,
   "metadata": {},
   "outputs": [],
   "source": []
  }
 ],
 "metadata": {
  "kernelspec": {
   "display_name": "Python 3",
   "language": "python",
   "name": "python3"
  },
  "language_info": {
   "codemirror_mode": {
    "name": "ipython",
    "version": 3
   },
   "file_extension": ".py",
   "mimetype": "text/x-python",
   "name": "python",
   "nbconvert_exporter": "python",
   "pygments_lexer": "ipython3",
   "version": "3.7.3"
  }
 },
 "nbformat": 4,
 "nbformat_minor": 2
}
